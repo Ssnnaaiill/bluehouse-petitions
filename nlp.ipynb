{
 "cells": [
  {
   "cell_type": "code",
   "execution_count": 8,
   "metadata": {},
   "outputs": [],
   "source": [
    "from openpyxl import load_workbook\n",
    "\n",
    "# bluehouse_petitions_titles\n",
    "read_wb = load_workbook(\"./bluehouse_petitions_titles.xlsx\")\n",
    "read_ws = read_wb.active\n",
    "\n",
    "petition_titles = []\n",
    "\n",
    "for i in range(0, 150):\n",
    "    petition_titles.append(read_ws.cell(i + 1, 1).value)"
   ]
  },
  {
   "cell_type": "code",
   "execution_count": 9,
   "metadata": {},
   "outputs": [
    {
     "data": {
      "text/plain": [
       "[('코로나', 29),\n",
       " ('대통령', 21),\n",
       " ('재인', 20),\n",
       " ('신천지', 20),\n",
       " ('19', 18),\n",
       " ('문재인', 17),\n",
       " ('청원', 16),\n",
       " ('코로나19', 15),\n",
       " ('탄핵', 14),\n",
       " ('마스크', 14),\n",
       " ('대구', 11),\n",
       " ('반대', 10),\n",
       " ('요구', 9),\n",
       " ('국민', 8),\n",
       " ('촉구', 8),\n",
       " ('개학', 8),\n",
       " ('지원', 8),\n",
       " ('강제', 7),\n",
       " ('수사', 7),\n",
       " ('연기', 7)]"
      ]
     },
     "execution_count": 9,
     "metadata": {},
     "output_type": "execute_result"
    }
   ],
   "source": [
    "from konlpy.tag import Kkma\n",
    "import collections\n",
    "\n",
    "kkma = Kkma()\n",
    "keywords = []\n",
    "\n",
    "for row in petition_titles:\n",
    "    keywords = keywords + kkma.nouns(row)\n",
    "\n",
    "effective_keywords = []\n",
    "for check in keywords:\n",
    "    if len(check) > 1:\n",
    "        effective_keywords.append(check)\n",
    "\n",
    "collections.Counter(effective_keywords).most_common(20)"
   ]
  },
  {
   "cell_type": "code",
   "execution_count": null,
   "metadata": {},
   "outputs": [],
   "source": []
  }
 ],
 "metadata": {
  "kernelspec": {
   "display_name": "Python 3",
   "language": "python",
   "name": "python3"
  },
  "language_info": {
   "codemirror_mode": {
    "name": "ipython",
    "version": 3
   },
   "file_extension": ".py",
   "mimetype": "text/x-python",
   "name": "python",
   "nbconvert_exporter": "python",
   "pygments_lexer": "ipython3",
   "version": "3.7.4"
  }
 },
 "nbformat": 4,
 "nbformat_minor": 2
}
