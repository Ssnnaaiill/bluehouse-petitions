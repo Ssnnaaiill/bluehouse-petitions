{
 "cells": [
  {
   "cell_type": "code",
   "execution_count": 117,
   "metadata": {},
   "outputs": [],
   "source": [
    "from bs4 import BeautifulSoup\n",
    "from selenium import webdriver\n",
    "import time"
   ]
  },
  {
   "cell_type": "code",
   "execution_count": 118,
   "metadata": {},
   "outputs": [],
   "source": [
    "driver = webdriver.Chrome(\"./chromedriver\")\n",
    "result_list = []"
   ]
  },
  {
   "cell_type": "code",
   "execution_count": 119,
   "metadata": {},
   "outputs": [],
   "source": [
    "for i in range(0, 10):\n",
    "    driver.get(\"https://www1.president.go.kr/petitions/best?page=\" + str(i + 1))\n",
    "    soup = BeautifulSoup(driver.page_source, \"html.parser\")\n",
    "    \n",
    "    for i in soup.select(\"#cont_view > div.cs_area > div > div > div.board.text > div.b_list.category > div.bl_body > ul > li\"):\n",
    "        # get title of each petition\n",
    "        result_list.append(i.find(\"div\", class_=\"bl_subject\").text[3:].strip())\n",
    "        # print(i.find(\"div\", class_=\"bl_subject\").text[3:].strip())\n",
    "    \n",
    "    time.sleep(1)"
   ]
  },
  {
   "cell_type": "code",
   "execution_count": 120,
   "metadata": {},
   "outputs": [],
   "source": [
    "driver.close()"
   ]
  },
  {
   "cell_type": "code",
   "execution_count": 121,
   "metadata": {},
   "outputs": [],
   "source": [
    "from openpyxl import Workbook"
   ]
  },
  {
   "cell_type": "code",
   "execution_count": 122,
   "metadata": {},
   "outputs": [],
   "source": [
    "write_workbook = Workbook()\n",
    "write_cell = write_workbook.active\n",
    "\n",
    "for i in range(1, len(result_list) + 1):\n",
    "    write_cell.cell(i, 1, result_list[i - 1])\n",
    "\n",
    "write_workbook.save(\"bluehouse_petitions_titles.xlsx\")"
   ]
  }
 ],
 "metadata": {
  "kernelspec": {
   "display_name": "Python 3",
   "language": "python",
   "name": "python3"
  },
  "language_info": {
   "codemirror_mode": {
    "name": "ipython",
    "version": 3
   },
   "file_extension": ".py",
   "mimetype": "text/x-python",
   "name": "python",
   "nbconvert_exporter": "python",
   "pygments_lexer": "ipython3",
   "version": "3.7.4"
  }
 },
 "nbformat": 4,
 "nbformat_minor": 2
}
